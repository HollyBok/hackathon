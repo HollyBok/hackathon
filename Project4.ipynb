{
 "cells": [
  {
   "cell_type": "markdown",
   "metadata": {},
   "source": [
    "## European Regional Red List"
   ]
  },
  {
   "cell_type": "code",
   "execution_count": 50,
   "metadata": {},
   "outputs": [],
   "source": [
    "import pandas as pd\n",
    "from sklearn.tree import DecisionTreeClassifier\n",
    "from sklearn.model_selection import train_test_split, GridSearchCV\n",
    "from sklearn.ensemble import RandomForestClassifier\n",
    "from sklearn.neighbors import KNeighborsClassifier\n",
    "from sklearn.preprocessing import StandardScaler\n",
    "from sklearn.pipeline import Pipeline\n",
    "from sklearn.linear_model import LogisticRegression\n",
    "import matplotlib.pyplot as plt\n"
   ]
  },
  {
   "cell_type": "code",
   "execution_count": 3,
   "metadata": {},
   "outputs": [],
   "source": [
    "df = pd.read_csv('European_Red_List_2017_December.csv')\n",
    "df.drop(columns=['taxonomicNotes', 'range', 'population', 'habitat',\n",
    "                'threats', 'conservationAction', 'redListCategoryRationale',\n",
    "                'redListAssessors', 'taxonomicRankSubspecies', 'scientificName',\n",
    "                'conservationStatusAnalysis', 'taxonomicAuthority',\n",
    "                'europeanRegionalRedListCriteria', 'euRegionalRedListCriteria',\n",
    "                'euScope', 'useAndTrade', 'redListReviewers', 'redListContributors',\n",
    "                'endemicToEu', 'euRegionalRedListCategory'],\n",
    "        inplace=True)\n",
    "df.rename(columns={'taxonomicRankKingdom':'kingdom',\n",
    "                   'taxonomicRankPhylum':'phylum',\n",
    "                   'taxonomicRankClass': 'class',\n",
    "                   'taxonomicRankOrder':'order',\n",
    "                   'taxonomicRankFamily':'family',\n",
    "                   'taxonomicRankGenus': 'genus',\n",
    "                   'taxonomicRankSpecies': 'species',\n",
    "                   'taxonomicRankSubspecies':'subspecies',\n",
    "                   'speciesGroup':'species_group',\n",
    "                   'endemicToEurope': 'endemic',\n",
    "                   'europeanRegionalRedListCategory': 'category',\n",
    "}, inplace=True)\n",
    "# do sokmething with population trend"
   ]
  },
  {
   "cell_type": "code",
   "execution_count": 4,
   "metadata": {},
   "outputs": [],
   "source": [
    "df['endemic'] = df['endemic'].map({'No':0, 'Yes':1})\n",
    "df = df[df['category'].notnull()]"
   ]
  },
  {
   "cell_type": "code",
   "execution_count": 5,
   "metadata": {},
   "outputs": [],
   "source": [
    "features = df.columns.drop('category')\n",
    "old_df = df\n",
    "\n",
    "df = pd.get_dummies(df[features], drop_first = True)\n",
    "df['category'] = old_df['category']"
   ]
  },
  {
   "cell_type": "code",
   "execution_count": 6,
   "metadata": {},
   "outputs": [],
   "source": [
    "X = df.drop(columns=['category'])\n",
    "y = df['category']"
   ]
  },
  {
   "cell_type": "code",
   "execution_count": 7,
   "metadata": {},
   "outputs": [],
   "source": [
    "X_train, X_test, y_train, y_test = train_test_split(X,y, stratify = y, random_state=13)"
   ]
  },
  {
   "cell_type": "markdown",
   "metadata": {},
   "source": [
    "### RANDOM FOREST"
   ]
  },
  {
   "cell_type": "code",
   "execution_count": null,
   "metadata": {},
   "outputs": [],
   "source": [
    "rf = RandomForestClassifier()"
   ]
  },
  {
   "cell_type": "code",
   "execution_count": null,
   "metadata": {},
   "outputs": [],
   "source": [
    "grid_params = ({\n",
    "    'min_samples_split': [4, 5],\n",
    "    'min_samples_leaf' : [1],\n",
    "    'max_features':['auto', 3000, 4000],\n",
    "})"
   ]
  },
  {
   "cell_type": "code",
   "execution_count": null,
   "metadata": {},
   "outputs": [],
   "source": [
    "gs = GridSearchCV(rf, param_grid=grid_params, cv=5)\n",
    "gs.fit(X_train, y_train)"
   ]
  },
  {
   "cell_type": "code",
   "execution_count": null,
   "metadata": {},
   "outputs": [],
   "source": [
    "gs.best_params_"
   ]
  },
  {
   "cell_type": "code",
   "execution_count": null,
   "metadata": {},
   "outputs": [],
   "source": [
    "gs = gs.best_estimator_"
   ]
  },
  {
   "cell_type": "code",
   "execution_count": null,
   "metadata": {},
   "outputs": [],
   "source": [
    "gs.score(X_train, y_train), gs.score(X_test, y_test)"
   ]
  },
  {
   "cell_type": "code",
   "execution_count": null,
   "metadata": {},
   "outputs": [],
   "source": []
  },
  {
   "cell_type": "markdown",
   "metadata": {},
   "source": [
    "### DECISION TREE"
   ]
  },
  {
   "cell_type": "code",
   "execution_count": 45,
   "metadata": {},
   "outputs": [
    {
     "name": "stderr",
     "output_type": "stream",
     "text": [
      "/opt/anaconda3/lib/python3.7/site-packages/sklearn/model_selection/_split.py:657: Warning: The least populated class in y has only 3 members, which is too few. The minimum number of members in any class cannot be less than n_splits=5.\n",
      "  % (min_groups, self.n_splits)), Warning)\n"
     ]
    },
    {
     "data": {
      "text/plain": [
       "GridSearchCV(cv=5, error_score='raise-deprecating',\n",
       "             estimator=DecisionTreeClassifier(class_weight=None,\n",
       "                                              criterion='gini', max_depth=None,\n",
       "                                              max_features=None,\n",
       "                                              max_leaf_nodes=None,\n",
       "                                              min_impurity_decrease=0.0,\n",
       "                                              min_impurity_split=None,\n",
       "                                              min_samples_leaf=1,\n",
       "                                              min_samples_split=2,\n",
       "                                              min_weight_fraction_leaf=0.0,\n",
       "                                              presort=False, random_state=None,\n",
       "                                              splitter='best'),\n",
       "             iid='warn', n_jobs=None,\n",
       "             param_grid={'max_depth': [None, 2, 3], 'max_features': [None],\n",
       "                         'min_samples_leaf': [5],\n",
       "                         'min_samples_split': [2, 3, 4]},\n",
       "             pre_dispatch='2*n_jobs', refit=True, return_train_score=False,\n",
       "             scoring=None, verbose=0)"
      ]
     },
     "execution_count": 45,
     "metadata": {},
     "output_type": "execute_result"
    }
   ],
   "source": [
    "dc = DecisionTreeClassifier()\n",
    "grid_params = ({\n",
    "    'max_features': [None],\n",
    "    'min_samples_leaf': [5],\n",
    "    'min_samples_split':[2,3,4],\n",
    "    'max_depth': [None,2,3]\n",
    "})\n",
    "gs = GridSearchCV(dc, param_grid= grid_params, cv=5)\n",
    "gs.fit(X_train, y_train)"
   ]
  },
  {
   "cell_type": "code",
   "execution_count": 46,
   "metadata": {},
   "outputs": [
    {
     "data": {
      "text/plain": [
       "{'max_depth': None,\n",
       " 'max_features': None,\n",
       " 'min_samples_leaf': 5,\n",
       " 'min_samples_split': 4}"
      ]
     },
     "execution_count": 46,
     "metadata": {},
     "output_type": "execute_result"
    }
   ],
   "source": [
    "gs.best_params_"
   ]
  },
  {
   "cell_type": "code",
   "execution_count": 47,
   "metadata": {},
   "outputs": [],
   "source": [
    "gs = gs.best_estimator_"
   ]
  },
  {
   "cell_type": "code",
   "execution_count": 48,
   "metadata": {},
   "outputs": [
    {
     "data": {
      "text/plain": [
       "(0.6759829464708669, 0.6337477797513321)"
      ]
     },
     "execution_count": 48,
     "metadata": {},
     "output_type": "execute_result"
    }
   ],
   "source": [
    "gs.score(X_train, y_train), gs.score(X_test, y_test)"
   ]
  },
  {
   "cell_type": "markdown",
   "metadata": {},
   "source": [
    "### LOGISTIC REGRESSION"
   ]
  },
  {
   "cell_type": "code",
   "execution_count": 8,
   "metadata": {},
   "outputs": [
    {
     "name": "stderr",
     "output_type": "stream",
     "text": [
      "/opt/anaconda3/lib/python3.7/site-packages/sklearn/linear_model/logistic.py:432: FutureWarning: Default solver will be changed to 'lbfgs' in 0.22. Specify a solver to silence this warning.\n",
      "  FutureWarning)\n",
      "/opt/anaconda3/lib/python3.7/site-packages/sklearn/linear_model/logistic.py:469: FutureWarning: Default multi_class will be changed to 'auto' in 0.22. Specify the multi_class option to silence this warning.\n",
      "  \"this warning.\", FutureWarning)\n"
     ]
    },
    {
     "data": {
      "text/plain": [
       "(0.8238986262434865, 0.6401420959147425)"
      ]
     },
     "execution_count": 8,
     "metadata": {},
     "output_type": "execute_result"
    }
   ],
   "source": [
    "lr = LogisticRegression(C=1, max_iter=100)\n",
    "lr.fit(X_train, y_train)\n",
    "lr.score(X_train, y_train), lr.score(X_test, y_test)"
   ]
  },
  {
   "cell_type": "code",
   "execution_count": 66,
   "metadata": {},
   "outputs": [],
   "source": [
    "cats = old_df['category']"
   ]
  },
  {
   "cell_type": "code",
   "execution_count": 71,
   "metadata": {},
   "outputs": [
    {
     "data": {
      "image/png": "[encoded data removed]",
      "text/plain": [
       "<Figure size 432x288 with 1 Axes>"
      ]
     },
     "metadata": {
      "needs_background": "light"
     },
     "output_type": "display_data"
    }
   ],
   "source": [
    "cats.hist()\n",
    "\n",
    "plt.title('Distribution of Red List Categories');"
   ]
  },
  {
   "cell_type": "code",
   "execution_count": 72,
   "metadata": {},
   "outputs": [
    {
     "data": {
      "text/plain": [
       "LC         0.515588\n",
       "DD         0.213962\n",
       "NT         0.085620\n",
       "VU         0.078604\n",
       "EN         0.061018\n",
       "CR         0.040501\n",
       "EX         0.002576\n",
       "CR (PE)    0.000711\n",
       "RE         0.000711\n",
       "NE         0.000355\n",
       "EW         0.000355\n",
       "Name: category, dtype: float64"
      ]
     },
     "execution_count": 72,
     "metadata": {},
     "output_type": "execute_result"
    }
   ],
   "source": [
    "#Baseline \n",
    "\n",
    "cats.value_counts(normalize=True)"
   ]
  },
  {
   "cell_type": "code",
   "execution_count": 14,
   "metadata": {},
   "outputs": [
    {
     "name": "stdout",
     "output_type": "stream",
     "text": [
      "<class 'pandas.core.frame.DataFrame'>\n",
      "Int64Index: 11259 entries, 0 to 11669\n",
      "Data columns (total 12 columns):\n",
      "species_group      11259 non-null object\n",
      "extracted          11259 non-null object\n",
      "kingdom            11259 non-null object\n",
      "phylum             11259 non-null object\n",
      "class              11259 non-null object\n",
      "order              11259 non-null object\n",
      "family             11259 non-null object\n",
      "genus              11028 non-null object\n",
      "species            11028 non-null object\n",
      "endemic            11259 non-null int64\n",
      "category           11259 non-null object\n",
      "populationTrend    11004 non-null object\n",
      "dtypes: int64(1), object(11)\n",
      "memory usage: 1.1+ MB\n"
     ]
    }
   ],
   "source": [
    "old_df.info()"
   ]
  },
  {
   "cell_type": "code",
   "execution_count": null,
   "metadata": {},
   "outputs": [],
   "source": []
  },
  {
   "cell_type": "code",
   "execution_count": null,
   "metadata": {},
   "outputs": [],
   "source": []
  },
  {
   "cell_type": "code",
   "execution_count": 29,
   "metadata": {},
   "outputs": [
    {
     "data": {
      "text/plain": [
       "category\n",
       "CR         0.888158\n",
       "CR (PE)    1.000000\n",
       "DD         0.449979\n",
       "EN         0.742358\n",
       "EW         1.000000\n",
       "EX         0.931034\n",
       "LC         0.335401\n",
       "NE         0.000000\n",
       "NT         0.594398\n",
       "RE         0.000000\n",
       "VU         0.784181\n",
       "Name: endemic, dtype: float64"
      ]
     },
     "execution_count": 29,
     "metadata": {},
     "output_type": "execute_result"
    }
   ],
   "source": [
    "old_df['endemic'].groupby(old_df['category']).mean()"
   ]
  },
  {
   "cell_type": "code",
   "execution_count": 35,
   "metadata": {},
   "outputs": [],
   "source": [
    "category_df = df.groupby(df['category']).mean()"
   ]
  },
  {
   "cell_type": "code",
   "execution_count": 56,
   "metadata": {},
   "outputs": [
    {
     "data": {
      "text/plain": [
       "endemic                              0.931034\n",
       "extracted_2011_September             0.862069\n",
       "phylum_CHORDATA                      0.586207\n",
       "species_group_Freshwater_Fishes      0.448276\n",
       "phylum_MOLLUSCA                      0.275862\n",
       "family_SALMONIDAE                    0.275862\n",
       "class_GASTROPODA                     0.275862\n",
       "order_SALMONIFORMES                  0.275862\n",
       "genus_Coregonus                      0.206897\n",
       "species_group_Freshwater_Molluscs    0.172414\n",
       "order_LITTORINIMORPHA                0.172414\n",
       "phylum_TRACHEOPHYTA                  0.137931\n",
       "class_MAGNOLIOPSIDA                  0.137931\n",
       "kingdom_PLANTAE                      0.137931\n",
       "family_HYDROBIIDAE                   0.137931\n",
       "dtype: float64"
      ]
     },
     "execution_count": 56,
     "metadata": {},
     "output_type": "execute_result"
    }
   ],
   "source": [
    "extinct = df[df['category']== 'EX']\n",
    "extinct.mean().sort_values(ascending=False).head(15)"
   ]
  },
  {
   "cell_type": "code",
   "execution_count": 44,
   "metadata": {},
   "outputs": [],
   "source": [
    "#  Bees are data deficient or not as endangered. Birds are very endangered (regionally\n",
    "# extinct). Fish especially are very exinct\n",
    "# Endemic species are more endangered\n"
   ]
  },
  {
   "cell_type": "code",
   "execution_count": 55,
   "metadata": {},
   "outputs": [
    {
     "data": {
      "text/plain": [
       "populationTrend_Stable         0.418088\n",
       "populationTrend_Unknown        0.406029\n",
       "class_INSECTA                  0.342636\n",
       "endemic                        0.335401\n",
       "extracted_2011_September       0.331955\n",
       "phylum_CHORDATA                0.290439\n",
       "kingdom_PLANTAE                0.217571\n",
       "phylum_TRACHEOPHYTA            0.215332\n",
       "extracted_2015_June            0.194143\n",
       "extracted_2015_April           0.174160\n",
       "phylum_MOLLUSCA                0.149354\n",
       "class_GASTROPODA               0.144703\n",
       "species_group_Plants           0.136434\n",
       "species_group_Marine_Fishes    0.120413\n",
       "class_MAGNOLIOPSIDA            0.118346\n",
       "dtype: float64"
      ]
     },
     "execution_count": 55,
     "metadata": {},
     "output_type": "execute_result"
    }
   ],
   "source": [
    "least = df[df['category']== 'LC']\n",
    "least.mean().sort_values(ascending=False).head(15)"
   ]
  },
  {
   "cell_type": "code",
   "execution_count": 57,
   "metadata": {},
   "outputs": [
    {
     "data": {
      "text/plain": [
       "endemic                              0.888158\n",
       "extracted_2011_September             0.765351\n",
       "populationTrend_Decreasing           0.464912\n",
       "populationTrend_Unknown              0.427632\n",
       "phylum_MOLLUSCA                      0.355263\n",
       "class_GASTROPODA                     0.348684\n",
       "kingdom_PLANTAE                      0.291667\n",
       "phylum_TRACHEOPHYTA                  0.285088\n",
       "species_group_Plants                 0.271930\n",
       "class_MAGNOLIOPSIDA                  0.250000\n",
       "species_group_Freshwater_Molluscs    0.239035\n",
       "phylum_CHORDATA                      0.221491\n",
       "order_LITTORINIMORPHA                0.217105\n",
       "family_HYDROBIIDAE                   0.199561\n",
       "species_group_Freshwater_Fishes      0.138158\n",
       "dtype: float64"
      ]
     },
     "execution_count": 57,
     "metadata": {},
     "output_type": "execute_result"
    }
   ],
   "source": [
    "critically_endangered = df[df['category']== 'CR']\n",
    "critically_endangered.mean().sort_values(ascending=False).head(15)"
   ]
  },
  {
   "cell_type": "code",
   "execution_count": 59,
   "metadata": {},
   "outputs": [
    {
     "data": {
      "text/plain": [
       "endemic                     1.00\n",
       "extracted_2011_September    1.00\n",
       "kingdom_PLANTAE             0.75\n",
       "species_group_Plants        0.75\n",
       "phylum_TRACHEOPHYTA         0.75\n",
       "family_GRAMINEAE            0.50\n",
       "genus_Bromus                0.50\n",
       "order_CYPERALES             0.50\n",
       "class_LILIOPSIDA            0.50\n",
       "family_PRIMULACEAE          0.25\n",
       "phylum_CHORDATA             0.25\n",
       "genus_Stenodus              0.25\n",
       "species_minoricensis        0.25\n",
       "class_MAGNOLIOPSIDA         0.25\n",
       "species_interruptus         0.25\n",
       "dtype: float64"
      ]
     },
     "execution_count": 59,
     "metadata": {},
     "output_type": "execute_result"
    }
   ],
   "source": [
    "extinct_wild = df[df['category']== 'EW']\n",
    "extinct_wild.mean().sort_values(ascending=False).head(15)"
   ]
  },
  {
   "cell_type": "code",
   "execution_count": 61,
   "metadata": {},
   "outputs": [
    {
     "data": {
      "text/plain": [
       "0    6007\n",
       "1    5252\n",
       "Name: endemic, dtype: int64"
      ]
     },
     "execution_count": 61,
     "metadata": {},
     "output_type": "execute_result"
    }
   ],
   "source": [
    "df['endemic'].value_counts()\n",
    "# Endemic and non-endemic species are pretty evenly split - but we see WAY more endemic\n",
    "# species that are endangered. These are likely smaller, and thus more vulnerable, \n",
    "# populations in the first place. "
   ]
  },
  {
   "cell_type": "code",
   "execution_count": null,
   "metadata": {},
   "outputs": [],
   "source": []
  }
 ],
 "metadata": {
  "kernelspec": {
   "display_name": "Python 3",
   "language": "python",
   "name": "python3"
  },
  "language_info": {
   "codemirror_mode": {
    "name": "ipython",
    "version": 3
   },
   "file_extension": ".py",
   "mimetype": "text/x-python",
   "name": "python",
   "nbconvert_exporter": "python",
   "pygments_lexer": "ipython3",
   "version": "3.7.4"
  }
 },
 "nbformat": 4,
 "nbformat_minor": 2
}
