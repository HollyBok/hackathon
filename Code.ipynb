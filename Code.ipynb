{
 "cells": [
  {
   "cell_type": "markdown",
   "metadata": {},
   "source": [
    "# Exploration of the 2017 December European Regional Red List"
   ]
  },
  {
   "cell_type": "code",
   "execution_count": 1,
   "metadata": {},
   "outputs": [],
   "source": [
    "import pandas as pd\n",
    "import numpy as np\n",
    "import matplotlib.pyplot as plt\n",
    "from sklearn.tree import DecisionTreeClassifier\n",
    "from sklearn.model_selection import train_test_split, GridSearchCV\n",
    "from sklearn.ensemble import RandomForestClassifier\n",
    "from sklearn.neighbors import KNeighborsClassifier\n",
    "from sklearn.preprocessing import StandardScaler\n",
    "from sklearn.pipeline import Pipeline\n",
    "from sklearn.linear_model import LogisticRegression"
   ]
  },
  {
   "cell_type": "markdown",
   "metadata": {},
   "source": [
    "## Data Preparation"
   ]
  },
  {
   "cell_type": "code",
   "execution_count": 2,
   "metadata": {},
   "outputs": [],
   "source": [
    "# Reading in the European Red List December 2017 CSV and saving as 'df'\n",
    "\n",
    "df = pd.read_csv('European_Red_List_2017_December.csv')\n",
    "\n",
    "# Dropping features without quantitative data. Several features of this dataset contain\n",
    "# information in the form of detailed descriptions (full sentences and paragraphs) and\n",
    "# are not included in analysis. \n",
    "\n",
    "df.drop(columns=['taxonomicNotes', 'range', 'population', 'habitat',\n",
    "                'threats', 'conservationAction', 'redListCategoryRationale',\n",
    "                'redListAssessors', 'taxonomicRankSubspecies', 'scientificName',\n",
    "                'conservationStatusAnalysis', 'taxonomicAuthority',\n",
    "                'europeanRegionalRedListCriteria', 'euRegionalRedListCriteria',\n",
    "                'euScope', 'useAndTrade', 'redListReviewers', 'redListContributors',\n",
    "                'endemicToEu', 'euRegionalRedListCategory'],\n",
    "        inplace=True)\n",
    "\n",
    "# Reformatting and reordering features \n",
    "\n",
    "df.rename(columns={'taxonomicRankKingdom':'kingdom',\n",
    "                   'taxonomicRankPhylum':'phylum',\n",
    "                   'taxonomicRankClass': 'class',\n",
    "                   'taxonomicRankOrder':'order',\n",
    "                   'taxonomicRankFamily':'family',\n",
    "                   'taxonomicRankGenus': 'genus',\n",
    "                   'taxonomicRankSpecies': 'species',\n",
    "                   'taxonomicRankSubspecies':'subspecies',\n",
    "                   'speciesGroup':'species_group',\n",
    "                   'endemicToEurope': 'endemic',\n",
    "                   'europeanRegionalRedListCategory': 'category',\n",
    "}, inplace=True)\n",
    "\n",
    "df['category'] = df['category'].map({'CR' : 'critically_endangered',\n",
    "                                     'CR (PE)' : 'c_e_possibly_extinct',\n",
    "                                     'DD' : 'data_deficient', \n",
    "                                     'EN' : 'endangered', \n",
    "                                     'EW' : 'extinct_in_wild',\n",
    "                                     'EX' : 'extinct',\n",
    "                                     'LC' : 'least_concern',\n",
    "                                     'NE' : 'not_evaluated',\n",
    "                                     'NT' : 'near_threatened', \n",
    "                                     'RE' : 'regionally_extinct', \n",
    "                                     'VU' : 'vulnerable'})\n",
    "\n",
    "df['endemic'] = df['endemic'].map({'No':0, 'Yes':1})"
   ]
  },
  {
   "cell_type": "code",
   "execution_count": 3,
   "metadata": {},
   "outputs": [
    {
     "data": {
      "text/plain": [
       "Index(['species_group', 'extracted', 'kingdom', 'phylum', 'class', 'order',\n",
       "       'family', 'genus', 'species', 'endemic', 'category', 'populationTrend'],\n",
       "      dtype='object')"
      ]
     },
     "execution_count": 3,
     "metadata": {},
     "output_type": "execute_result"
    }
   ],
   "source": [
    "df.columns"
   ]
  },
  {
   "cell_type": "code",
   "execution_count": 4,
   "metadata": {},
   "outputs": [
    {
     "data": {
      "text/plain": [
       "Unknown       0.544752\n",
       "Stable        0.254106\n",
       "Decreasing    0.171102\n",
       "Increasing    0.029161\n",
       "0             0.000878\n",
       "Name: populationTrend, dtype: float64"
      ]
     },
     "execution_count": 4,
     "metadata": {},
     "output_type": "execute_result"
    }
   ],
   "source": [
    "# Observing the ratios of population trends. Over 50% of the species have population\n",
    "# trends that are Unknown\n",
    "\n",
    "df['populationTrend'].value_counts(normalize=True)"
   ]
  },
  {
   "cell_type": "code",
   "execution_count": 5,
   "metadata": {},
   "outputs": [
    {
     "name": "stdout",
     "output_type": "stream",
     "text": [
      "Null values make up 4.0% of the data\n",
      "Null values have been deleted from the dataframe\n"
     ]
    }
   ],
   "source": [
    "# Checking what percentage of the species have null values for endangerment categories.\n",
    "# If null vaues are below 10% of the total species the values will be deleted. Above\n",
    "# this threshold it is assumed that deleting the null values will result in too great of\n",
    "# an information loss and missing values will have to be handled another way.\n",
    "\n",
    "\n",
    "number_null_rows = df[df['category'].isnull()].shape[0]\n",
    "ratio = number_null_rows / df.shape[0]\n",
    "print(f'Null values make up {np.round(ratio, decimals= 2) * 100}% of the data')\n",
    "\n",
    "if (np.round(ratio, decimals= 2) * 100) < 10.0:\n",
    "    df = df[df['category'].notnull()]\n",
    "    print('Null values have been deleted from the dataframe')\n",
    "else:\n",
    "    print('Null values make up too large of a proportion of the dataframe to be deleted')\n"
   ]
  },
  {
   "cell_type": "code",
   "execution_count": 6,
   "metadata": {},
   "outputs": [
    {
     "data": {
      "text/plain": [
       "least_concern    0.515588\n",
       "Name: category, dtype: float64"
      ]
     },
     "execution_count": 6,
     "metadata": {},
     "output_type": "execute_result"
    }
   ],
   "source": [
    "# Identifying a baseline accuracy score. The baseline accuracy score is the percentage of\n",
    "# predictions that would be correct if I predicted the majority class (in this case,\n",
    "# Least Concern) for every species. \n",
    "\n",
    "df['category'].value_counts(normalize=True).sort_values(ascending=False).head(1)"
   ]
  },
  {
   "cell_type": "code",
   "execution_count": 7,
   "metadata": {},
   "outputs": [],
   "source": [
    "# Preparing features for classification modeling. The target feature is 'category', a\n",
    "# measure of how endangered a species is.\n",
    "# Dummy features are created for all predictive variables in the dataframe\n",
    "\n",
    "category = df['category']\n",
    "features = df.columns.drop('category')\n",
    "df = pd.get_dummies(df[features], drop_first = True)\n",
    "df['category'] = category\n"
   ]
  },
  {
   "cell_type": "code",
   "execution_count": 8,
   "metadata": {},
   "outputs": [],
   "source": [
    "# Preparing features for modeling: setting X and y and running a train_test_split\n",
    "\n",
    "X = df.drop(columns=['category'])\n",
    "y = df['category']\n",
    "X_train, X_test, y_train, y_test = train_test_split(X,y, stratify = y, random_state=13)\n"
   ]
  },
  {
   "cell_type": "markdown",
   "metadata": {},
   "source": [
    "## Modeling"
   ]
  },
  {
   "cell_type": "markdown",
   "metadata": {},
   "source": [
    "### Random Forest Classification"
   ]
  },
  {
   "cell_type": "code",
   "execution_count": 9,
   "metadata": {},
   "outputs": [
    {
     "name": "stderr",
     "output_type": "stream",
     "text": [
      "/opt/anaconda3/lib/python3.7/site-packages/sklearn/model_selection/_split.py:657: Warning: The least populated class in y has only 3 members, which is too few. The minimum number of members in any class cannot be less than n_splits=5.\n",
      "  % (min_groups, self.n_splits)), Warning)\n",
      "/opt/anaconda3/lib/python3.7/site-packages/sklearn/ensemble/forest.py:245: FutureWarning: The default value of n_estimators will change from 10 in version 0.20 to 100 in 0.22.\n",
      "  \"10 in version 0.20 to 100 in 0.22.\", FutureWarning)\n",
      "/opt/anaconda3/lib/python3.7/site-packages/sklearn/ensemble/forest.py:245: FutureWarning: The default value of n_estimators will change from 10 in version 0.20 to 100 in 0.22.\n",
      "  \"10 in version 0.20 to 100 in 0.22.\", FutureWarning)\n",
      "/opt/anaconda3/lib/python3.7/site-packages/sklearn/ensemble/forest.py:245: FutureWarning: The default value of n_estimators will change from 10 in version 0.20 to 100 in 0.22.\n",
      "  \"10 in version 0.20 to 100 in 0.22.\", FutureWarning)\n",
      "/opt/anaconda3/lib/python3.7/site-packages/sklearn/ensemble/forest.py:245: FutureWarning: The default value of n_estimators will change from 10 in version 0.20 to 100 in 0.22.\n",
      "  \"10 in version 0.20 to 100 in 0.22.\", FutureWarning)\n",
      "/opt/anaconda3/lib/python3.7/site-packages/sklearn/ensemble/forest.py:245: FutureWarning: The default value of n_estimators will change from 10 in version 0.20 to 100 in 0.22.\n",
      "  \"10 in version 0.20 to 100 in 0.22.\", FutureWarning)\n",
      "/opt/anaconda3/lib/python3.7/site-packages/sklearn/ensemble/forest.py:245: FutureWarning: The default value of n_estimators will change from 10 in version 0.20 to 100 in 0.22.\n",
      "  \"10 in version 0.20 to 100 in 0.22.\", FutureWarning)\n",
      "/opt/anaconda3/lib/python3.7/site-packages/sklearn/ensemble/forest.py:245: FutureWarning: The default value of n_estimators will change from 10 in version 0.20 to 100 in 0.22.\n",
      "  \"10 in version 0.20 to 100 in 0.22.\", FutureWarning)\n",
      "/opt/anaconda3/lib/python3.7/site-packages/sklearn/ensemble/forest.py:245: FutureWarning: The default value of n_estimators will change from 10 in version 0.20 to 100 in 0.22.\n",
      "  \"10 in version 0.20 to 100 in 0.22.\", FutureWarning)\n",
      "/opt/anaconda3/lib/python3.7/site-packages/sklearn/ensemble/forest.py:245: FutureWarning: The default value of n_estimators will change from 10 in version 0.20 to 100 in 0.22.\n",
      "  \"10 in version 0.20 to 100 in 0.22.\", FutureWarning)\n",
      "/opt/anaconda3/lib/python3.7/site-packages/sklearn/ensemble/forest.py:245: FutureWarning: The default value of n_estimators will change from 10 in version 0.20 to 100 in 0.22.\n",
      "  \"10 in version 0.20 to 100 in 0.22.\", FutureWarning)\n",
      "/opt/anaconda3/lib/python3.7/site-packages/sklearn/ensemble/forest.py:245: FutureWarning: The default value of n_estimators will change from 10 in version 0.20 to 100 in 0.22.\n",
      "  \"10 in version 0.20 to 100 in 0.22.\", FutureWarning)\n",
      "/opt/anaconda3/lib/python3.7/site-packages/sklearn/ensemble/forest.py:245: FutureWarning: The default value of n_estimators will change from 10 in version 0.20 to 100 in 0.22.\n",
      "  \"10 in version 0.20 to 100 in 0.22.\", FutureWarning)\n",
      "/opt/anaconda3/lib/python3.7/site-packages/sklearn/ensemble/forest.py:245: FutureWarning: The default value of n_estimators will change from 10 in version 0.20 to 100 in 0.22.\n",
      "  \"10 in version 0.20 to 100 in 0.22.\", FutureWarning)\n",
      "/opt/anaconda3/lib/python3.7/site-packages/sklearn/ensemble/forest.py:245: FutureWarning: The default value of n_estimators will change from 10 in version 0.20 to 100 in 0.22.\n",
      "  \"10 in version 0.20 to 100 in 0.22.\", FutureWarning)\n",
      "/opt/anaconda3/lib/python3.7/site-packages/sklearn/ensemble/forest.py:245: FutureWarning: The default value of n_estimators will change from 10 in version 0.20 to 100 in 0.22.\n",
      "  \"10 in version 0.20 to 100 in 0.22.\", FutureWarning)\n",
      "/opt/anaconda3/lib/python3.7/site-packages/sklearn/ensemble/forest.py:245: FutureWarning: The default value of n_estimators will change from 10 in version 0.20 to 100 in 0.22.\n",
      "  \"10 in version 0.20 to 100 in 0.22.\", FutureWarning)\n",
      "/opt/anaconda3/lib/python3.7/site-packages/sklearn/ensemble/forest.py:245: FutureWarning: The default value of n_estimators will change from 10 in version 0.20 to 100 in 0.22.\n",
      "  \"10 in version 0.20 to 100 in 0.22.\", FutureWarning)\n",
      "/opt/anaconda3/lib/python3.7/site-packages/sklearn/ensemble/forest.py:245: FutureWarning: The default value of n_estimators will change from 10 in version 0.20 to 100 in 0.22.\n",
      "  \"10 in version 0.20 to 100 in 0.22.\", FutureWarning)\n",
      "/opt/anaconda3/lib/python3.7/site-packages/sklearn/ensemble/forest.py:245: FutureWarning: The default value of n_estimators will change from 10 in version 0.20 to 100 in 0.22.\n",
      "  \"10 in version 0.20 to 100 in 0.22.\", FutureWarning)\n",
      "/opt/anaconda3/lib/python3.7/site-packages/sklearn/ensemble/forest.py:245: FutureWarning: The default value of n_estimators will change from 10 in version 0.20 to 100 in 0.22.\n",
      "  \"10 in version 0.20 to 100 in 0.22.\", FutureWarning)\n",
      "/opt/anaconda3/lib/python3.7/site-packages/sklearn/ensemble/forest.py:245: FutureWarning: The default value of n_estimators will change from 10 in version 0.20 to 100 in 0.22.\n",
      "  \"10 in version 0.20 to 100 in 0.22.\", FutureWarning)\n",
      "/opt/anaconda3/lib/python3.7/site-packages/sklearn/ensemble/forest.py:245: FutureWarning: The default value of n_estimators will change from 10 in version 0.20 to 100 in 0.22.\n",
      "  \"10 in version 0.20 to 100 in 0.22.\", FutureWarning)\n",
      "/opt/anaconda3/lib/python3.7/site-packages/sklearn/ensemble/forest.py:245: FutureWarning: The default value of n_estimators will change from 10 in version 0.20 to 100 in 0.22.\n",
      "  \"10 in version 0.20 to 100 in 0.22.\", FutureWarning)\n",
      "/opt/anaconda3/lib/python3.7/site-packages/sklearn/ensemble/forest.py:245: FutureWarning: The default value of n_estimators will change from 10 in version 0.20 to 100 in 0.22.\n",
      "  \"10 in version 0.20 to 100 in 0.22.\", FutureWarning)\n",
      "/opt/anaconda3/lib/python3.7/site-packages/sklearn/ensemble/forest.py:245: FutureWarning: The default value of n_estimators will change from 10 in version 0.20 to 100 in 0.22.\n",
      "  \"10 in version 0.20 to 100 in 0.22.\", FutureWarning)\n",
      "/opt/anaconda3/lib/python3.7/site-packages/sklearn/ensemble/forest.py:245: FutureWarning: The default value of n_estimators will change from 10 in version 0.20 to 100 in 0.22.\n",
      "  \"10 in version 0.20 to 100 in 0.22.\", FutureWarning)\n",
      "/opt/anaconda3/lib/python3.7/site-packages/sklearn/ensemble/forest.py:245: FutureWarning: The default value of n_estimators will change from 10 in version 0.20 to 100 in 0.22.\n",
      "  \"10 in version 0.20 to 100 in 0.22.\", FutureWarning)\n",
      "/opt/anaconda3/lib/python3.7/site-packages/sklearn/ensemble/forest.py:245: FutureWarning: The default value of n_estimators will change from 10 in version 0.20 to 100 in 0.22.\n",
      "  \"10 in version 0.20 to 100 in 0.22.\", FutureWarning)\n",
      "/opt/anaconda3/lib/python3.7/site-packages/sklearn/ensemble/forest.py:245: FutureWarning: The default value of n_estimators will change from 10 in version 0.20 to 100 in 0.22.\n",
      "  \"10 in version 0.20 to 100 in 0.22.\", FutureWarning)\n",
      "/opt/anaconda3/lib/python3.7/site-packages/sklearn/ensemble/forest.py:245: FutureWarning: The default value of n_estimators will change from 10 in version 0.20 to 100 in 0.22.\n",
      "  \"10 in version 0.20 to 100 in 0.22.\", FutureWarning)\n",
      "/opt/anaconda3/lib/python3.7/site-packages/sklearn/ensemble/forest.py:245: FutureWarning: The default value of n_estimators will change from 10 in version 0.20 to 100 in 0.22.\n",
      "  \"10 in version 0.20 to 100 in 0.22.\", FutureWarning)\n",
      "/opt/anaconda3/lib/python3.7/site-packages/sklearn/ensemble/forest.py:245: FutureWarning: The default value of n_estimators will change from 10 in version 0.20 to 100 in 0.22.\n",
      "  \"10 in version 0.20 to 100 in 0.22.\", FutureWarning)\n",
      "/opt/anaconda3/lib/python3.7/site-packages/sklearn/ensemble/forest.py:245: FutureWarning: The default value of n_estimators will change from 10 in version 0.20 to 100 in 0.22.\n",
      "  \"10 in version 0.20 to 100 in 0.22.\", FutureWarning)\n",
      "/opt/anaconda3/lib/python3.7/site-packages/sklearn/ensemble/forest.py:245: FutureWarning: The default value of n_estimators will change from 10 in version 0.20 to 100 in 0.22.\n",
      "  \"10 in version 0.20 to 100 in 0.22.\", FutureWarning)\n",
      "/opt/anaconda3/lib/python3.7/site-packages/sklearn/ensemble/forest.py:245: FutureWarning: The default value of n_estimators will change from 10 in version 0.20 to 100 in 0.22.\n",
      "  \"10 in version 0.20 to 100 in 0.22.\", FutureWarning)\n"
     ]
    },
    {
     "name": "stderr",
     "output_type": "stream",
     "text": [
      "/opt/anaconda3/lib/python3.7/site-packages/sklearn/ensemble/forest.py:245: FutureWarning: The default value of n_estimators will change from 10 in version 0.20 to 100 in 0.22.\n",
      "  \"10 in version 0.20 to 100 in 0.22.\", FutureWarning)\n",
      "/opt/anaconda3/lib/python3.7/site-packages/sklearn/ensemble/forest.py:245: FutureWarning: The default value of n_estimators will change from 10 in version 0.20 to 100 in 0.22.\n",
      "  \"10 in version 0.20 to 100 in 0.22.\", FutureWarning)\n",
      "/opt/anaconda3/lib/python3.7/site-packages/sklearn/ensemble/forest.py:245: FutureWarning: The default value of n_estimators will change from 10 in version 0.20 to 100 in 0.22.\n",
      "  \"10 in version 0.20 to 100 in 0.22.\", FutureWarning)\n",
      "/opt/anaconda3/lib/python3.7/site-packages/sklearn/ensemble/forest.py:245: FutureWarning: The default value of n_estimators will change from 10 in version 0.20 to 100 in 0.22.\n",
      "  \"10 in version 0.20 to 100 in 0.22.\", FutureWarning)\n",
      "/opt/anaconda3/lib/python3.7/site-packages/sklearn/ensemble/forest.py:245: FutureWarning: The default value of n_estimators will change from 10 in version 0.20 to 100 in 0.22.\n",
      "  \"10 in version 0.20 to 100 in 0.22.\", FutureWarning)\n",
      "/opt/anaconda3/lib/python3.7/site-packages/sklearn/ensemble/forest.py:245: FutureWarning: The default value of n_estimators will change from 10 in version 0.20 to 100 in 0.22.\n",
      "  \"10 in version 0.20 to 100 in 0.22.\", FutureWarning)\n",
      "/opt/anaconda3/lib/python3.7/site-packages/sklearn/ensemble/forest.py:245: FutureWarning: The default value of n_estimators will change from 10 in version 0.20 to 100 in 0.22.\n",
      "  \"10 in version 0.20 to 100 in 0.22.\", FutureWarning)\n",
      "/opt/anaconda3/lib/python3.7/site-packages/sklearn/ensemble/forest.py:245: FutureWarning: The default value of n_estimators will change from 10 in version 0.20 to 100 in 0.22.\n",
      "  \"10 in version 0.20 to 100 in 0.22.\", FutureWarning)\n",
      "/opt/anaconda3/lib/python3.7/site-packages/sklearn/ensemble/forest.py:245: FutureWarning: The default value of n_estimators will change from 10 in version 0.20 to 100 in 0.22.\n",
      "  \"10 in version 0.20 to 100 in 0.22.\", FutureWarning)\n",
      "/opt/anaconda3/lib/python3.7/site-packages/sklearn/ensemble/forest.py:245: FutureWarning: The default value of n_estimators will change from 10 in version 0.20 to 100 in 0.22.\n",
      "  \"10 in version 0.20 to 100 in 0.22.\", FutureWarning)\n",
      "/opt/anaconda3/lib/python3.7/site-packages/sklearn/ensemble/forest.py:245: FutureWarning: The default value of n_estimators will change from 10 in version 0.20 to 100 in 0.22.\n",
      "  \"10 in version 0.20 to 100 in 0.22.\", FutureWarning)\n"
     ]
    }
   ],
   "source": [
    "# Instantiating a RandomForestClassifier object and setting parameters to GridSearch over\n",
    "# Parameter ranges are selected based on trial and error for appropriateness for this \n",
    "# model.\n",
    "\n",
    "rf = RandomForestClassifier()\n",
    "\n",
    "grid_params = ({\n",
    "    'min_samples_split': [3, 4, 5],\n",
    "    'min_samples_leaf' : [1],\n",
    "    'max_features':['auto', 3000, 4000],\n",
    "})\n",
    "\n",
    "# Instantiating a GridSearch object and fitting it to training data. The random forest\n",
    "# model with the highest performing parameters from the GridSearch is selected and saved\n",
    "# as 'rf_gs'\n",
    "\n",
    "gs = GridSearchCV(rf, param_grid=grid_params, cv=5)\n",
    "gs.fit(X_train, y_train)\n",
    "rf_gs = gs.best_estimator_\n"
   ]
  },
  {
   "cell_type": "code",
   "execution_count": 10,
   "metadata": {},
   "outputs": [
    {
     "name": "stdout",
     "output_type": "stream",
     "text": [
      "Parameters: {'max_features': 3000, 'min_samples_leaf': 1, 'min_samples_split': 5}\n",
      "\n",
      "Random Forest Training Accuracy: 0.933\n",
      "Random Forest Testing Accuracy: 0.64\n"
     ]
    }
   ],
   "source": [
    "# Printing the selected parameters as well as the training and testing accuracy scores\n",
    "# for the performance of the rf_gs model\n",
    "\n",
    "train_score_rf = rf_gs.score(X_train, y_train)\n",
    "test_score_rf = rf_gs.score(X_test, y_test)\n",
    "\n",
    "print(f'Parameters: {gs.best_params_}\\n')\n",
    "print(f'Random Forest Training Accuracy: {np.round(train_score_rf, decimals=3)}')\n",
    "print(f'Random Forest Testing Accuracy: {np.round(test_score_rf, decimals=3)}')"
   ]
  },
  {
   "cell_type": "markdown",
   "metadata": {},
   "source": [
    "### Decision Tree Classification"
   ]
  },
  {
   "cell_type": "code",
   "execution_count": 11,
   "metadata": {},
   "outputs": [
    {
     "name": "stderr",
     "output_type": "stream",
     "text": [
      "/opt/anaconda3/lib/python3.7/site-packages/sklearn/model_selection/_split.py:657: Warning: The least populated class in y has only 3 members, which is too few. The minimum number of members in any class cannot be less than n_splits=5.\n",
      "  % (min_groups, self.n_splits)), Warning)\n"
     ]
    }
   ],
   "source": [
    "# Repeating the modeling and GridSearch operations for a Decision Tree Classification \n",
    "# object, 'dc'\n",
    "\n",
    "dc = DecisionTreeClassifier()\n",
    "\n",
    "grid_params = ({\n",
    "    'max_features': [None],\n",
    "    'min_samples_leaf': [5],\n",
    "    'min_samples_split':[2,3,4],\n",
    "    'max_depth': [None,2,3]\n",
    "})\n",
    "\n",
    "gs = GridSearchCV(dc, param_grid= grid_params, cv=5);\n",
    "gs.fit(X_train, y_train)\n",
    "dt_gs = gs.best_estimator_\n"
   ]
  },
  {
   "cell_type": "code",
   "execution_count": 12,
   "metadata": {},
   "outputs": [
    {
     "name": "stdout",
     "output_type": "stream",
     "text": [
      "Parameters: {'max_depth': None, 'max_features': None, 'min_samples_leaf': 5, 'min_samples_split': 2}\n",
      "\n",
      "Decision Tree Training Accuracy: 0.676\n",
      "Decision Tree Testing Accuracy: 0.64\n"
     ]
    }
   ],
   "source": [
    "# Printing model details and performance\n",
    "\n",
    "train_score_dt_gs = dt_gs.score(X_train, y_train)\n",
    "test_score_dt_gs = dt_gs.score(X_test, y_test)\n",
    "\n",
    "print(f'Parameters: {gs.best_params_}\\n')\n",
    "print(f'Decision Tree Training Accuracy: {np.round(train_score_dt_gs, decimals=3)}')\n",
    "print(f'Decision Tree Testing Accuracy: {np.round(test_score_dt_gs, decimals=3)}')\n"
   ]
  },
  {
   "cell_type": "markdown",
   "metadata": {},
   "source": [
    "### Logistic Regression"
   ]
  },
  {
   "cell_type": "code",
   "execution_count": 13,
   "metadata": {},
   "outputs": [
    {
     "name": "stderr",
     "output_type": "stream",
     "text": [
      "/opt/anaconda3/lib/python3.7/site-packages/sklearn/linear_model/logistic.py:432: FutureWarning: Default solver will be changed to 'lbfgs' in 0.22. Specify a solver to silence this warning.\n",
      "  FutureWarning)\n",
      "/opt/anaconda3/lib/python3.7/site-packages/sklearn/linear_model/logistic.py:469: FutureWarning: Default multi_class will be changed to 'auto' in 0.22. Specify the multi_class option to silence this warning.\n",
      "  \"this warning.\", FutureWarning)\n"
     ]
    }
   ],
   "source": [
    "# Instantiating and fitting a Logistic Regression object, 'lr'\n",
    "\n",
    "lr = LogisticRegression(C=1, max_iter=100)\n",
    "lr.fit(X_train, y_train);\n"
   ]
  },
  {
   "cell_type": "code",
   "execution_count": 14,
   "metadata": {},
   "outputs": [
    {
     "name": "stdout",
     "output_type": "stream",
     "text": [
      "Logistic Regression Training Accuracy: 0.823\n",
      "Logistic Regression Testing Accuracy: 0.639\n"
     ]
    }
   ],
   "source": [
    "# Printing the training and testing accuracy scores for the performance of the lr model\n",
    "\n",
    "train_score_lr = lr.score(X_train, y_train)\n",
    "test_score_lr = lr.score(X_test, y_test)\n",
    "\n",
    "print(f'Logistic Regression Training Accuracy: {np.round(train_score_lr, decimals=3)}')\n",
    "print(f'Logistic Regression Testing Accuracy: {np.round(test_score_lr, decimals=3)}')\n"
   ]
  },
  {
   "cell_type": "markdown",
   "metadata": {},
   "source": [
    "### Predictions"
   ]
  },
  {
   "cell_type": "code",
   "execution_count": 15,
   "metadata": {
    "scrolled": true
   },
   "outputs": [
    {
     "name": "stderr",
     "output_type": "stream",
     "text": [
      "/opt/anaconda3/lib/python3.7/site-packages/ipykernel_launcher.py:8: SettingWithCopyWarning: \n",
      "A value is trying to be set on a copy of a slice from a DataFrame.\n",
      "Try using .loc[row_indexer,col_indexer] = value instead\n",
      "\n",
      "See the caveats in the documentation: http://pandas.pydata.org/pandas-docs/stable/user_guide/indexing.html#returning-a-view-versus-a-copy\n",
      "  \n",
      "/opt/anaconda3/lib/python3.7/site-packages/ipykernel_launcher.py:9: SettingWithCopyWarning: \n",
      "A value is trying to be set on a copy of a slice from a DataFrame.\n",
      "Try using .loc[row_indexer,col_indexer] = value instead\n",
      "\n",
      "See the caveats in the documentation: http://pandas.pydata.org/pandas-docs/stable/user_guide/indexing.html#returning-a-view-versus-a-copy\n",
      "  if __name__ == '__main__':\n"
     ]
    }
   ],
   "source": [
    "# Making predictions for the category of endangerment for the species in the test dataset.\n",
    "# Creating a DataFrame, 'test_df' for analysis.\n",
    "# Predictions are made using the 'dc_gs' model as this model had the best overall testing\n",
    "# accuracy score as well as the lowest variance\n",
    "\n",
    "\n",
    "predictions = dt_gs.predict(X_test)\n",
    "X_test['actual'] = y_test\n",
    "X_test['prediction'] = predictions\n",
    "test_df = X_test\n"
   ]
  },
  {
   "cell_type": "markdown",
   "metadata": {},
   "source": [
    "## Analysis"
   ]
  },
  {
   "cell_type": "code",
   "execution_count": 16,
   "metadata": {},
   "outputs": [
    {
     "data": {
      "image/png": "[encoded data removed]",
      "text/plain": [
       "<Figure size 864x432 with 1 Axes>"
      ]
     },
     "metadata": {
      "needs_background": "light"
     },
     "output_type": "display_data"
    }
   ],
   "source": [
    "# Creating a histogram of the predicted level of endangerment for all species\n",
    "\n",
    "plt.figure(figsize=(12,6))\n",
    "test_df['prediction'].hist()\n",
    "plt.title('Histogram of Predicted Categories of Test Species', fontsize=20);"
   ]
  },
  {
   "cell_type": "code",
   "execution_count": 17,
   "metadata": {},
   "outputs": [
    {
     "data": {
      "image/png": "[encoded data removed]",
      "text/plain": [
       "<Figure size 1296x576 with 1 Axes>"
      ]
     },
     "metadata": {
      "needs_background": "light"
     },
     "output_type": "display_data"
    }
   ],
   "source": [
    "# Creating a histogram of the actual level of endangerment for all species\n",
    "\n",
    "xscategories = set(test_df['actual'])\n",
    "category_counts = test_df['actual'].value_counts()\n",
    "\n",
    "plt.figure(figsize=(18,8))\n",
    "test_df['actual'].hist() #plt.hist(x = categories, height = category_counts)\n",
    "plt.title('Histogram of Actual Categories of Test Species', fontsize=20);\n"
   ]
  },
  {
   "cell_type": "code",
   "execution_count": 18,
   "metadata": {},
   "outputs": [
    {
     "data": {
      "text/plain": [
       "category\n",
       "extinct_in_wild          1.000000\n",
       "c_e_possibly_extinct     1.000000\n",
       "extinct                  0.931034\n",
       "critically_endangered    0.888158\n",
       "vulnerable               0.784181\n",
       "endangered               0.742358\n",
       "near_threatened          0.594398\n",
       "data_deficient           0.449979\n",
       "least_concern            0.335401\n",
       "regionally_extinct       0.000000\n",
       "not_evaluated            0.000000\n",
       "Name: endemic, dtype: float64"
      ]
     },
     "execution_count": 18,
     "metadata": {},
     "output_type": "execute_result"
    }
   ],
   "source": [
    "# Observing the proportion of all species in each category that are endemic\n",
    "\n",
    "df['endemic'].groupby(df['category']).mean().sort_values(ascending=False)"
   ]
  },
  {
   "cell_type": "code",
   "execution_count": 19,
   "metadata": {},
   "outputs": [
    {
     "data": {
      "text/plain": [
       "endemic                              0.931034\n",
       "extracted_2011_September             0.862069\n",
       "phylum_CHORDATA                      0.586207\n",
       "species_group_Freshwater_Fishes      0.448276\n",
       "phylum_MOLLUSCA                      0.275862\n",
       "family_SALMONIDAE                    0.275862\n",
       "class_GASTROPODA                     0.275862\n",
       "order_SALMONIFORMES                  0.275862\n",
       "genus_Coregonus                      0.206897\n",
       "species_group_Freshwater_Molluscs    0.172414\n",
       "order_LITTORINIMORPHA                0.172414\n",
       "phylum_TRACHEOPHYTA                  0.137931\n",
       "class_MAGNOLIOPSIDA                  0.137931\n",
       "kingdom_PLANTAE                      0.137931\n",
       "family_HYDROBIIDAE                   0.137931\n",
       "dtype: float64"
      ]
     },
     "execution_count": 19,
     "metadata": {},
     "output_type": "execute_result"
    }
   ],
   "source": [
    "# Creating a dataframe of only extinct species and obesrving the features that are most\n",
    "# common among those species \n",
    "\n",
    "extinct = df[df['category']== 'extinct']\n",
    "extinct.mean().sort_values(ascending=False).head(15)\n"
   ]
  },
  {
   "cell_type": "code",
   "execution_count": 20,
   "metadata": {},
   "outputs": [
    {
     "data": {
      "text/plain": [
       "populationTrend_Stable         0.418088\n",
       "populationTrend_Unknown        0.406029\n",
       "class_INSECTA                  0.342636\n",
       "endemic                        0.335401\n",
       "extracted_2011_September       0.331955\n",
       "phylum_CHORDATA                0.290439\n",
       "kingdom_PLANTAE                0.217571\n",
       "phylum_TRACHEOPHYTA            0.215332\n",
       "extracted_2015_June            0.194143\n",
       "extracted_2015_April           0.174160\n",
       "phylum_MOLLUSCA                0.149354\n",
       "class_GASTROPODA               0.144703\n",
       "species_group_Plants           0.136434\n",
       "species_group_Marine_Fishes    0.120413\n",
       "class_MAGNOLIOPSIDA            0.118346\n",
       "dtype: float64"
      ]
     },
     "execution_count": 20,
     "metadata": {},
     "output_type": "execute_result"
    }
   ],
   "source": [
    "# Creating a dataframe of only least concern species and obesrving the features that are most\n",
    "# common among those species \n",
    "\n",
    "least = df[df['category']== 'least_concern']\n",
    "least.mean().sort_values(ascending=False).head(15)\n"
   ]
  },
  {
   "cell_type": "code",
   "execution_count": 21,
   "metadata": {},
   "outputs": [
    {
     "data": {
      "text/plain": [
       "endemic                              0.888158\n",
       "extracted_2011_September             0.765351\n",
       "populationTrend_Decreasing           0.464912\n",
       "populationTrend_Unknown              0.427632\n",
       "phylum_MOLLUSCA                      0.355263\n",
       "class_GASTROPODA                     0.348684\n",
       "kingdom_PLANTAE                      0.291667\n",
       "phylum_TRACHEOPHYTA                  0.285088\n",
       "species_group_Plants                 0.271930\n",
       "class_MAGNOLIOPSIDA                  0.250000\n",
       "species_group_Freshwater_Molluscs    0.239035\n",
       "phylum_CHORDATA                      0.221491\n",
       "order_LITTORINIMORPHA                0.217105\n",
       "family_HYDROBIIDAE                   0.199561\n",
       "species_group_Freshwater_Fishes      0.138158\n",
       "dtype: float64"
      ]
     },
     "execution_count": 21,
     "metadata": {},
     "output_type": "execute_result"
    }
   ],
   "source": [
    "# Creating a dataframe of only critically endangered species and obesrving the features that are most\n",
    "# common among those species \n",
    "\n",
    "critically_endangered = df[df['category']== 'critically_endangered']\n",
    "critically_endangered.mean().sort_values(ascending=False).head(15)\n"
   ]
  },
  {
   "cell_type": "code",
   "execution_count": 22,
   "metadata": {},
   "outputs": [
    {
     "data": {
      "text/plain": [
       "endemic                     1.00\n",
       "extracted_2011_September    1.00\n",
       "kingdom_PLANTAE             0.75\n",
       "species_group_Plants        0.75\n",
       "phylum_TRACHEOPHYTA         0.75\n",
       "family_GRAMINEAE            0.50\n",
       "genus_Bromus                0.50\n",
       "order_CYPERALES             0.50\n",
       "class_LILIOPSIDA            0.50\n",
       "family_PRIMULACEAE          0.25\n",
       "phylum_CHORDATA             0.25\n",
       "genus_Stenodus              0.25\n",
       "species_minoricensis        0.25\n",
       "class_MAGNOLIOPSIDA         0.25\n",
       "species_interruptus         0.25\n",
       "dtype: float64"
      ]
     },
     "execution_count": 22,
     "metadata": {},
     "output_type": "execute_result"
    }
   ],
   "source": [
    "# Creating a dataframe of only \"extinct in wild\" species and obesrving the features that are most\n",
    "# common among those species \n",
    "\n",
    "extinct_wild = df[df['category']== 'extinct_in_wild']\n",
    "extinct_wild.mean().sort_values(ascending=False).head(15)"
   ]
  },
  {
   "cell_type": "code",
   "execution_count": 23,
   "metadata": {},
   "outputs": [
    {
     "data": {
      "text/plain": [
       "0    0.533529\n",
       "1    0.466471\n",
       "Name: endemic, dtype: float64"
      ]
     },
     "execution_count": 23,
     "metadata": {},
     "output_type": "execute_result"
    }
   ],
   "source": [
    "# Observing the proportion of all species that are endemic\n",
    "\n",
    "df['endemic'].value_counts(normalize=True)\n"
   ]
  },
  {
   "cell_type": "code",
   "execution_count": 24,
   "metadata": {},
   "outputs": [],
   "source": [
    "# Creating a bar chart showing the rate of endemicness for each level of endangerment\n",
    "\n",
    "endemic = df['endemic'].groupby(df['category']).mean()\n",
    "endemic_index = endemic.index"
   ]
  },
  {
   "cell_type": "code",
   "execution_count": 25,
   "metadata": {},
   "outputs": [
    {
     "data": {
      "image/png": "[encoded data removed]",
      "text/plain": [
       "<Figure size 1728x864 with 1 Axes>"
      ]
     },
     "metadata": {
      "needs_background": "light"
     },
     "output_type": "display_data"
    }
   ],
   "source": [
    "plt.figure(figsize=(24, 12))\n",
    "plt.bar(x=endemic_index, height=endemic)\n",
    "plt.title('Proportion of Endemic Species by Level of Endangerment', fontsize=32)\n",
    "plt.xlabel('Level', fontsize=22)\n",
    "plt.ylabel('Rate of Endemicness', fontsize=22);\n"
   ]
  }
 ],
 "metadata": {
  "kernelspec": {
   "display_name": "Python 3",
   "language": "python",
   "name": "python3"
  },
  "language_info": {
   "codemirror_mode": {
    "name": "ipython",
    "version": 3
   },
   "file_extension": ".py",
   "mimetype": "text/x-python",
   "name": "python",
   "nbconvert_exporter": "python",
   "pygments_lexer": "ipython3",
   "version": "3.7.4"
  }
 },
 "nbformat": 4,
 "nbformat_minor": 2
}
